{
  "cells": [
    {
      "cell_type": "markdown",
      "metadata": {
        "id": "G8HfR-dViIYp"
      },
      "source": [
        "Setup"
      ]
    },
    {
      "cell_type": "code",
      "execution_count": null,
      "metadata": {
        "colab": {
          "base_uri": "https://localhost:8080/"
        },
        "id": "UaPNQPZoN04V",
        "outputId": "fba34a72-c24b-4cb6-dbfa-1d5256a9693d"
      },
      "outputs": [
        {
          "name": "stdout",
          "output_type": "stream",
          "text": [
            "                                              review sentiment\n",
            "0  One of the other reviewers has mentioned that ...  positive\n",
            "1  A wonderful little production. <br /><br />The...  positive\n",
            "2  I thought this was a wonderful way to spend ti...  positive\n",
            "3  Basically there's a family where a little boy ...  negative\n",
            "4  Petter Mattei's \"Love in the Time of Money\" is...  positive\n"
          ]
        }
      ],
      "source": [
        "import pandas as pd\n",
        "\n",
        "df = pd.read_csv('/content/drive/MyDrive/Colab Notebooks/IMDB Dataset.csv')  # path to your downloaded file\n",
        "print(df.head())\n"
      ]
    },
    {
      "cell_type": "markdown",
      "metadata": {
        "id": "wSNR128MiK_A"
      },
      "source": [
        "Text Preprocessing"
      ]
    },
    {
      "cell_type": "code",
      "execution_count": null,
      "metadata": {
        "colab": {
          "base_uri": "https://localhost:8080/"
        },
        "id": "1jrRasvsjJRF",
        "outputId": "5de31668-aa7c-4442-a1b5-33c6de5f906a"
      },
      "outputs": [
        {
          "name": "stdout",
          "output_type": "stream",
          "text": [
            "Collecting en-core-web-sm==3.8.0\n",
            "  Downloading https://github.com/explosion/spacy-models/releases/download/en_core_web_sm-3.8.0/en_core_web_sm-3.8.0-py3-none-any.whl (12.8 MB)\n",
            "\u001b[2K     \u001b[90m━━━━━━━━━━━━━━━━━━━━━━━━━━━━━━━━━━━━━━━\u001b[0m \u001b[32m12.8/12.8 MB\u001b[0m \u001b[31m103.3 MB/s\u001b[0m eta \u001b[36m0:00:00\u001b[0m\n",
            "\u001b[?25h\u001b[38;5;2m✔ Download and installation successful\u001b[0m\n",
            "You can now load the package via spacy.load('en_core_web_sm')\n",
            "\u001b[38;5;3m⚠ Restart to reload dependencies\u001b[0m\n",
            "If you are in a Jupyter or Colab notebook, you may need to restart Python in\n",
            "order to load all the package's dependencies. You can do this by selecting the\n",
            "'Restart kernel' or 'Restart runtime' option.\n"
          ]
        }
      ],
      "source": [
        "!pip install -q spacy\n",
        "!python -m spacy download en_core_web_sm\n"
      ]
    },
    {
      "cell_type": "code",
      "execution_count": null,
      "metadata": {
        "id": "s1wE4fe3jLyG"
      },
      "outputs": [],
      "source": [
        "import spacy\n",
        "\n",
        "# Load English tokenizer, tagger, parser, NER and word vectors\n",
        "nlp = spacy.load('en_core_web_sm')\n",
        "\n",
        "def spacy_preprocess(text):\n",
        "    doc = nlp(text.lower())  # lowercase\n",
        "    tokens = [token.lemma_ for token in doc if not token.is_stop and token.is_alpha]\n",
        "    return ' '.join(tokens)\n"
      ]
    },
    {
      "cell_type": "code",
      "execution_count": null,
      "metadata": {
        "colab": {
          "base_uri": "https://localhost:8080/"
        },
        "id": "uC5rNTt_jso1",
        "outputId": "924611d7-3f76-40a9-ded3-13e36348b418"
      },
      "outputs": [
        {
          "name": "stdout",
          "output_type": "stream",
          "text": [
            "                                              review  \\\n",
            "0  One of the other reviewers has mentioned that ...   \n",
            "1  A wonderful little production. <br /><br />The...   \n",
            "2  I thought this was a wonderful way to spend ti...   \n",
            "3  Basically there's a family where a little boy ...   \n",
            "4  Petter Mattei's \"Love in the Time of Money\" is...   \n",
            "\n",
            "                                      cleaned_review  \n",
            "0  reviewer mention watch oz episode hook right e...  \n",
            "1  wonderful little production br filming techniq...  \n",
            "2  think wonderful way spend time hot summer week...  \n",
            "3  basically family little boy jake think zombie ...  \n",
            "4  petter mattei love time money visually stunnin...  \n"
          ]
        }
      ],
      "source": [
        "# Assuming your DataFrame is named df and review column is 'review'\n",
        "df['cleaned_review'] = df['review'].apply(spacy_preprocess)\n",
        "\n",
        "print(df[['review', 'cleaned_review']].head())\n"
      ]
    },
    {
      "cell_type": "markdown",
      "metadata": {
        "id": "nDO27EAI7mhc"
      },
      "source": [
        "Feature Extraction & Model Training\n"
      ]
    },
    {
      "cell_type": "code",
      "execution_count": null,
      "metadata": {
        "colab": {
          "base_uri": "https://localhost:8080/"
        },
        "id": "m2r_C1RxjuXg",
        "outputId": "c50ad07a-08b0-476a-c934-9c3658c1cec8"
      },
      "outputs": [
        {
          "name": "stdout",
          "output_type": "stream",
          "text": [
            "TF-IDF matrix shape: (50000, 5000)\n"
          ]
        }
      ],
      "source": [
        "from sklearn.feature_extraction.text import TfidfVectorizer\n",
        "\n",
        "# Initialize TF-IDF Vectorizer\n",
        "tfidf = TfidfVectorizer(max_features=5000, ngram_range=(1,2))  # unigrams and bigrams\n",
        "\n",
        "# Fit and transform the cleaned reviews\n",
        "X = tfidf.fit_transform(df['cleaned_review'])\n",
        "\n",
        "print(f\"TF-IDF matrix shape: {X.shape}\")\n"
      ]
    },
    {
      "cell_type": "code",
      "execution_count": null,
      "metadata": {
        "id": "qjVCcQuy7uA3"
      },
      "outputs": [],
      "source": [
        "# Map sentiment labels to binary values\n",
        "df['sentiment_label'] = df['sentiment'].map({'positive': 1, 'negative': 0})\n",
        "\n",
        "y = df['sentiment_label']\n"
      ]
    },
    {
      "cell_type": "code",
      "execution_count": null,
      "metadata": {
        "id": "0ZO6LvCl7wB8"
      },
      "outputs": [],
      "source": [
        "from sklearn.model_selection import train_test_split\n",
        "\n",
        "X_train, X_test, y_train, y_test = train_test_split(\n",
        "    X, y, test_size=0.2, random_state=42, stratify=y)\n"
      ]
    },
    {
      "cell_type": "code",
      "execution_count": null,
      "metadata": {
        "colab": {
          "base_uri": "https://localhost:8080/"
        },
        "id": "seMWTzpI7yOO",
        "outputId": "fe4d96c4-016b-4fe5-dc64-49aa14b3c67a"
      },
      "outputs": [
        {
          "name": "stdout",
          "output_type": "stream",
          "text": [
            "Classification Report:\n",
            "               precision    recall  f1-score   support\n",
            "\n",
            "           0       0.89      0.87      0.88      5000\n",
            "           1       0.87      0.89      0.88      5000\n",
            "\n",
            "    accuracy                           0.88     10000\n",
            "   macro avg       0.88      0.88      0.88     10000\n",
            "weighted avg       0.88      0.88      0.88     10000\n",
            "\n",
            "Accuracy: 0.8827\n"
          ]
        }
      ],
      "source": [
        "from sklearn.linear_model import LogisticRegression\n",
        "from sklearn.metrics import classification_report, accuracy_score\n",
        "\n",
        "# Initialize and train\n",
        "lr = LogisticRegression(max_iter=1000)\n",
        "lr.fit(X_train, y_train)\n",
        "\n",
        "# Predict\n",
        "y_pred = lr.predict(X_test)\n",
        "\n",
        "# Evaluate\n",
        "print(\"Classification Report:\\n\", classification_report(y_test, y_pred))\n",
        "print(f\"Accuracy: {accuracy_score(y_test, y_pred):.4f}\")\n"
      ]
    },
    {
      "cell_type": "markdown",
      "metadata": {
        "id": "C8TjberCIh8-"
      },
      "source": [
        "Prepare Target Variable & Train-Test Split"
      ]
    },
    {
      "cell_type": "code",
      "execution_count": null,
      "metadata": {
        "colab": {
          "base_uri": "https://localhost:8080/"
        },
        "id": "8cgvxUXmHRXS",
        "outputId": "fee0a79d-ea1f-40c6-a519-22ad5b1bea8a"
      },
      "outputs": [
        {
          "name": "stdout",
          "output_type": "stream",
          "text": [
            "sentiment_label\n",
            "1    25000\n",
            "0    25000\n",
            "Name: count, dtype: int64\n"
          ]
        }
      ],
      "source": [
        "# Map sentiment to binary labels: positive=1, negative=0\n",
        "df['sentiment_label'] = df['sentiment'].map({'positive': 1, 'negative': 0})\n",
        "\n",
        "# Check the distribution\n",
        "print(df['sentiment_label'].value_counts())\n"
      ]
    },
    {
      "cell_type": "code",
      "execution_count": null,
      "metadata": {
        "colab": {
          "base_uri": "https://localhost:8080/"
        },
        "id": "bRpBywxKImVv",
        "outputId": "e90ceac6-c77c-48d1-92e9-df7cccb2315f"
      },
      "outputs": [
        {
          "name": "stdout",
          "output_type": "stream",
          "text": [
            "Training samples: 40000\n",
            "Testing samples: 10000\n"
          ]
        }
      ],
      "source": [
        "from sklearn.model_selection import train_test_split\n",
        "\n",
        "# X is your TF-IDF features matrix, y is the label vector\n",
        "y = df['sentiment_label']\n",
        "\n",
        "X_train, X_test, y_train, y_test = train_test_split(\n",
        "    X, y, test_size=0.2, random_state=42, stratify=y)\n",
        "\n",
        "print(f\"Training samples: {X_train.shape[0]}\")\n",
        "print(f\"Testing samples: {X_test.shape[0]}\")\n"
      ]
    },
    {
      "cell_type": "code",
      "execution_count": null,
      "metadata": {
        "colab": {
          "base_uri": "https://localhost:8080/"
        },
        "id": "qTtLXJ7JIoRi",
        "outputId": "e93c9f2c-d295-4843-fba6-14a7ee140b3a"
      },
      "outputs": [
        {
          "name": "stdout",
          "output_type": "stream",
          "text": [
            "Classification Report:\n",
            "               precision    recall  f1-score   support\n",
            "\n",
            "           0       0.89      0.87      0.88      5000\n",
            "           1       0.87      0.89      0.88      5000\n",
            "\n",
            "    accuracy                           0.88     10000\n",
            "   macro avg       0.88      0.88      0.88     10000\n",
            "weighted avg       0.88      0.88      0.88     10000\n",
            "\n",
            "Accuracy: 0.8827\n"
          ]
        }
      ],
      "source": [
        "from sklearn.linear_model import LogisticRegression\n",
        "from sklearn.metrics import classification_report, accuracy_score\n",
        "\n",
        "model = LogisticRegression(max_iter=1000)\n",
        "model.fit(X_train, y_train)\n",
        "\n",
        "y_pred = model.predict(X_test)\n",
        "\n",
        "print(\"Classification Report:\\n\", classification_report(y_test, y_pred))\n",
        "print(f\"Accuracy: {accuracy_score(y_test, y_pred):.4f}\")\n"
      ]
    },
    {
      "cell_type": "markdown",
      "metadata": {
        "id": "l4poXblNJBJN"
      },
      "source": [
        "Model Evaluation\n"
      ]
    },
    {
      "cell_type": "code",
      "execution_count": null,
      "metadata": {
        "colab": {
          "base_uri": "https://localhost:8080/"
        },
        "id": "aCToSAtWIqG7",
        "outputId": "a31c208e-00ae-4d87-e30d-c71affbddc20"
      },
      "outputs": [
        {
          "name": "stdout",
          "output_type": "stream",
          "text": [
            "Classification Report:\n",
            "               precision    recall  f1-score   support\n",
            "\n",
            "           0       0.89      0.87      0.88      5000\n",
            "           1       0.87      0.89      0.88      5000\n",
            "\n",
            "    accuracy                           0.88     10000\n",
            "   macro avg       0.88      0.88      0.88     10000\n",
            "weighted avg       0.88      0.88      0.88     10000\n",
            "\n",
            "Accuracy: 0.8827\n"
          ]
        }
      ],
      "source": [
        "from sklearn.metrics import classification_report, accuracy_score\n",
        "\n",
        "y_pred = model.predict(X_test)\n",
        "\n",
        "print(\"Classification Report:\\n\", classification_report(y_test, y_pred))\n",
        "print(f\"Accuracy: {accuracy_score(y_test, y_pred):.4f}\")\n"
      ]
    },
    {
      "cell_type": "code",
      "execution_count": null,
      "metadata": {
        "colab": {
          "base_uri": "https://localhost:8080/",
          "height": 410
        },
        "id": "NlLu6MsmJJPc",
        "outputId": "1b3836fd-5889-4d43-ee33-e4bb4c396eae"
      },
      "outputs": [
        {
          "data": {
            "image/png": "[encoded data removed]",
            "text/plain": [
              "<Figure size 600x400 with 2 Axes>"
            ]
          },
          "metadata": {},
          "output_type": "display_data"
        }
      ],
      "source": [
        "from sklearn.metrics import confusion_matrix\n",
        "import matplotlib.pyplot as plt\n",
        "import seaborn as sns\n",
        "\n",
        "cm = confusion_matrix(y_test, y_pred)\n",
        "\n",
        "plt.figure(figsize=(6,4))\n",
        "sns.heatmap(cm, annot=True, fmt='d', cmap='Blues', xticklabels=['Negative', 'Positive'], yticklabels=['Negative', 'Positive'])\n",
        "plt.xlabel('Predicted')\n",
        "plt.ylabel('Actual')\n",
        "plt.title('Confusion Matrix')\n",
        "plt.show()\n"
      ]
    },
    {
      "cell_type": "code",
      "execution_count": null,
      "metadata": {
        "colab": {
          "base_uri": "https://localhost:8080/",
          "height": 410
        },
        "id": "nRi_3vKZJLKr",
        "outputId": "18905c54-de44-4c90-9830-5c1ae3b03911"
      },
      "outputs": [
        {
          "data": {
            "image/png": "[encoded data removed]",
            "text/plain": [
              "<Figure size 600x400 with 1 Axes>"
            ]
          },
          "metadata": {},
          "output_type": "display_data"
        }
      ],
      "source": [
        "from sklearn.metrics import roc_curve, roc_auc_score\n",
        "\n",
        "# Predict probabilities for the positive class\n",
        "y_prob = model.predict_proba(X_test)[:, 1]\n",
        "\n",
        "fpr, tpr, thresholds = roc_curve(y_test, y_prob)\n",
        "auc_score = roc_auc_score(y_test, y_prob)\n",
        "\n",
        "plt.figure(figsize=(6,4))\n",
        "plt.plot(fpr, tpr, label=f'AUC = {auc_score:.4f}')\n",
        "plt.plot([0,1], [0,1], linestyle='--', color='gray')\n",
        "plt.xlabel('False Positive Rate')\n",
        "plt.ylabel('True Positive Rate')\n",
        "plt.title('ROC Curve')\n",
        "plt.legend()\n",
        "plt.show()\n"
      ]
    },
    {
      "cell_type": "markdown",
      "metadata": {
        "id": "yg77u3BxJRSW"
      },
      "source": [
        "Hyperparameter Tuning"
      ]
    },
    {
      "cell_type": "code",
      "execution_count": null,
      "metadata": {
        "id": "JwqsCdapJNe4"
      },
      "outputs": [],
      "source": [
        "from sklearn.linear_model import LogisticRegression\n",
        "from sklearn.model_selection import GridSearchCV\n",
        "from sklearn.metrics import accuracy_score, classification_report\n"
      ]
    },
    {
      "cell_type": "code",
      "execution_count": null,
      "metadata": {
        "id": "35z-nzF8Jhvl"
      },
      "outputs": [],
      "source": [
        "param_grid = {\n",
        "    'C': [0.01, 0.1, 1, 10, 100],\n",
        "    'penalty': ['l1', 'l2', 'elasticnet', None],  # None instead of 'none'\n",
        "    'solver': ['saga'],  # saga supports all these penalties\n",
        "    'max_iter': [100, 200, 500],\n",
        "    'l1_ratio': [0, 0.5, 1]  # Required only if penalty='elasticnet'\n",
        "}\n"
      ]
    },
    {
      "cell_type": "code",
      "execution_count": 27,
      "metadata": {
        "colab": {
          "base_uri": "https://localhost:8080/"
        },
        "id": "bva6iqMCJjS-",
        "outputId": "8b1e9d69-88db-4f2f-e61f-0fa666ddd253"
      },
      "outputs": [
        {
          "output_type": "stream",
          "name": "stdout",
          "text": [
            "Fitting 5 folds for each of 16 candidates, totalling 80 fits\n",
            "Best parameters: {'C': 1, 'max_iter': 200, 'penalty': 'l2', 'solver': 'saga'}\n",
            "Best cross-validation accuracy: 0.8799499999999998\n"
          ]
        }
      ],
      "source": [
        "from sklearn.linear_model import LogisticRegression\n",
        "from sklearn.model_selection import GridSearchCV\n",
        "from sklearn.exceptions import ConvergenceWarning\n",
        "import warnings\n",
        "\n",
        "# Define parameter grid without invalid combinations\n",
        "param_grid = [\n",
        "    {'penalty': ['l1', 'l2'], 'C': [0.01, 0.1, 1, 10], 'solver': ['saga'], 'max_iter': [200]},\n",
        "    {'penalty': ['elasticnet'], 'C': [0.01, 0.1, 1, 10], 'solver': ['saga'], 'max_iter': [200], 'l1_ratio': [0.5]},\n",
        "    {'penalty': [None], 'C': [0.01, 0.1, 1, 10], 'solver': ['saga'], 'max_iter': [200]}\n",
        "]\n",
        "\n",
        "logreg = LogisticRegression()\n",
        "\n",
        "grid_search = GridSearchCV(logreg, param_grid, cv=5, scoring='accuracy', n_jobs=-1, verbose=1, error_score='raise')\n",
        "\n",
        "# Suppress convergence warnings if you want\n",
        "warnings.filterwarnings(\"ignore\", category=ConvergenceWarning)\n",
        "\n",
        "grid_search.fit(X_train, y_train)\n",
        "\n",
        "print(\"Best parameters:\", grid_search.best_params_)\n",
        "print(\"Best cross-validation accuracy:\", grid_search.best_score_)\n"
      ]
    },
    {
      "cell_type": "code",
      "execution_count": 28,
      "metadata": {
        "colab": {
          "base_uri": "https://localhost:8080/"
        },
        "id": "jT7L7PLaJxkI",
        "outputId": "ec22e9f6-cea2-4f26-f13b-fedb17611748"
      },
      "outputs": [
        {
          "output_type": "stream",
          "name": "stdout",
          "text": [
            "Best Hyperparameters: {'C': 1, 'max_iter': 200, 'penalty': 'l2', 'solver': 'saga'}\n",
            "Test Accuracy: 0.8838\n",
            "Classification Report:\n",
            "               precision    recall  f1-score   support\n",
            "\n",
            "           0       0.89      0.87      0.88      5000\n",
            "           1       0.87      0.90      0.89      5000\n",
            "\n",
            "    accuracy                           0.88     10000\n",
            "   macro avg       0.88      0.88      0.88     10000\n",
            "weighted avg       0.88      0.88      0.88     10000\n",
            "\n"
          ]
        }
      ],
      "source": [
        "print(\"Best Hyperparameters:\", grid_search.best_params_)\n",
        "\n",
        "best_model = grid_search.best_estimator_\n",
        "\n",
        "y_pred = best_model.predict(X_test)\n",
        "\n",
        "print(\"Test Accuracy:\", accuracy_score(y_test, y_pred))\n",
        "print(\"Classification Report:\\n\", classification_report(y_test, y_pred))\n"
      ]
    },
    {
      "cell_type": "markdown",
      "metadata": {
        "id": "rbkWXC0sLAuk"
      },
      "source": [
        "Trying More Advanced Models"
      ]
    },
    {
      "cell_type": "code",
      "execution_count": 29,
      "metadata": {
        "id": "0psgmJiCLGQ4",
        "colab": {
          "base_uri": "https://localhost:8080/"
        },
        "outputId": "c73323c8-321b-4195-996c-31d9c6f28a09"
      },
      "outputs": [
        {
          "output_type": "stream",
          "name": "stdout",
          "text": [
            "--- Naive Bayes ---\n",
            "Accuracy: 0.8511\n",
            "              precision    recall  f1-score   support\n",
            "\n",
            "           0       0.87      0.83      0.85      5000\n",
            "           1       0.84      0.87      0.85      5000\n",
            "\n",
            "    accuracy                           0.85     10000\n",
            "   macro avg       0.85      0.85      0.85     10000\n",
            "weighted avg       0.85      0.85      0.85     10000\n",
            "\n",
            "--- Linear SVM ---\n",
            "Accuracy: 0.8743\n",
            "              precision    recall  f1-score   support\n",
            "\n",
            "           0       0.88      0.87      0.87      5000\n",
            "           1       0.87      0.88      0.88      5000\n",
            "\n",
            "    accuracy                           0.87     10000\n",
            "   macro avg       0.87      0.87      0.87     10000\n",
            "weighted avg       0.87      0.87      0.87     10000\n",
            "\n",
            "--- Random Forest ---\n",
            "Accuracy: 0.8444\n",
            "              precision    recall  f1-score   support\n",
            "\n",
            "           0       0.84      0.85      0.84      5000\n",
            "           1       0.85      0.84      0.84      5000\n",
            "\n",
            "    accuracy                           0.84     10000\n",
            "   macro avg       0.84      0.84      0.84     10000\n",
            "weighted avg       0.84      0.84      0.84     10000\n",
            "\n"
          ]
        }
      ],
      "source": [
        "#Naive Bayes\n",
        "from sklearn.naive_bayes import MultinomialNB\n",
        "from sklearn.svm import LinearSVC\n",
        "from sklearn.ensemble import RandomForestClassifier\n",
        "from sklearn.metrics import classification_report, accuracy_score\n",
        "\n",
        "models = {\n",
        "    'Naive Bayes': MultinomialNB(),\n",
        "    'Linear SVM': LinearSVC(max_iter=10000),\n",
        "    'Random Forest': RandomForestClassifier(n_estimators=100, random_state=42)\n",
        "}\n",
        "\n",
        "for name, clf in models.items():\n",
        "    clf.fit(X_train, y_train)\n",
        "    y_pred = clf.predict(X_test)\n",
        "    print(f\"--- {name} ---\")\n",
        "    print(f\"Accuracy: {accuracy_score(y_test, y_pred):.4f}\")\n",
        "    print(classification_report(y_test, y_pred))\n"
      ]
    },
    {
      "cell_type": "code",
      "execution_count": 30,
      "metadata": {
        "id": "BMjX-H5lLJUH",
        "colab": {
          "base_uri": "https://localhost:8080/"
        },
        "outputId": "ae964d10-b169-47ec-fa55-f85b9ffc86c1"
      },
      "outputs": [
        {
          "output_type": "stream",
          "name": "stderr",
          "text": [
            "/usr/local/lib/python3.11/dist-packages/keras/src/layers/core/embedding.py:90: UserWarning: Argument `input_length` is deprecated. Just remove it.\n",
            "  warnings.warn(\n"
          ]
        },
        {
          "output_type": "stream",
          "name": "stdout",
          "text": [
            "Epoch 1/10\n",
            "\u001b[1m500/500\u001b[0m \u001b[32m━━━━━━━━━━━━━━━━━━━━\u001b[0m\u001b[37m\u001b[0m \u001b[1m161s\u001b[0m 312ms/step - accuracy: 0.7224 - loss: 0.5297 - val_accuracy: 0.7906 - val_loss: 0.4430\n",
            "Epoch 2/10\n",
            "\u001b[1m500/500\u001b[0m \u001b[32m━━━━━━━━━━━━━━━━━━━━\u001b[0m\u001b[37m\u001b[0m \u001b[1m203s\u001b[0m 314ms/step - accuracy: 0.8590 - loss: 0.3410 - val_accuracy: 0.8597 - val_loss: 0.3317\n",
            "Epoch 3/10\n",
            "\u001b[1m500/500\u001b[0m \u001b[32m━━━━━━━━━━━━━━━━━━━━\u001b[0m\u001b[37m\u001b[0m \u001b[1m202s\u001b[0m 315ms/step - accuracy: 0.8958 - loss: 0.2657 - val_accuracy: 0.8704 - val_loss: 0.3131\n",
            "Epoch 4/10\n",
            "\u001b[1m500/500\u001b[0m \u001b[32m━━━━━━━━━━━━━━━━━━━━\u001b[0m\u001b[37m\u001b[0m \u001b[1m160s\u001b[0m 321ms/step - accuracy: 0.9106 - loss: 0.2308 - val_accuracy: 0.8649 - val_loss: 0.3252\n",
            "Epoch 5/10\n",
            "\u001b[1m500/500\u001b[0m \u001b[32m━━━━━━━━━━━━━━━━━━━━\u001b[0m\u001b[37m\u001b[0m \u001b[1m202s\u001b[0m 321ms/step - accuracy: 0.9312 - loss: 0.1838 - val_accuracy: 0.8611 - val_loss: 0.3365\n",
            "Epoch 6/10\n",
            "\u001b[1m500/500\u001b[0m \u001b[32m━━━━━━━━━━━━━━━━━━━━\u001b[0m\u001b[37m\u001b[0m \u001b[1m204s\u001b[0m 324ms/step - accuracy: 0.9421 - loss: 0.1559 - val_accuracy: 0.8615 - val_loss: 0.3675\n",
            "\u001b[1m313/313\u001b[0m \u001b[32m━━━━━━━━━━━━━━━━━━━━\u001b[0m\u001b[37m\u001b[0m \u001b[1m16s\u001b[0m 50ms/step - accuracy: 0.8780 - loss: 0.3100\n",
            "LSTM Test Accuracy: 0.8788\n"
          ]
        }
      ],
      "source": [
        "#LSTM\n",
        "import numpy as np\n",
        "from tensorflow.keras.preprocessing.text import Tokenizer\n",
        "from tensorflow.keras.preprocessing.sequence import pad_sequences\n",
        "from tensorflow.keras.models import Sequential\n",
        "from tensorflow.keras.layers import Embedding, LSTM, Dense, Dropout\n",
        "from tensorflow.keras.callbacks import EarlyStopping\n",
        "\n",
        "# Parameters\n",
        "max_words = 10000  # vocabulary size\n",
        "max_len = 200      # max sequence length\n",
        "\n",
        "# Tokenize text (use raw reviews or cleaned reviews)\n",
        "tokenizer = Tokenizer(num_words=max_words)\n",
        "tokenizer.fit_on_texts(df['review'])\n",
        "\n",
        "X_seq = tokenizer.texts_to_sequences(df['review'])\n",
        "X_pad = pad_sequences(X_seq, maxlen=max_len)\n",
        "\n",
        "# Split train/test again for deep learning\n",
        "from sklearn.model_selection import train_test_split\n",
        "X_train_dl, X_test_dl, y_train_dl, y_test_dl = train_test_split(X_pad, df['sentiment_label'], test_size=0.2, random_state=42, stratify=df['sentiment_label'])\n",
        "\n",
        "# Build LSTM model\n",
        "model = Sequential([\n",
        "    Embedding(max_words, 128, input_length=max_len),\n",
        "    LSTM(64, dropout=0.2, recurrent_dropout=0.2),\n",
        "    Dense(1, activation='sigmoid')\n",
        "])\n",
        "\n",
        "model.compile(loss='binary_crossentropy', optimizer='adam', metrics=['accuracy'])\n",
        "\n",
        "# Train with early stopping\n",
        "es = EarlyStopping(monitor='val_loss', patience=3, restore_best_weights=True)\n",
        "\n",
        "history = model.fit(X_train_dl, y_train_dl, epochs=10, batch_size=64, validation_split=0.2, callbacks=[es])\n",
        "\n",
        "# Evaluate\n",
        "loss, accuracy = model.evaluate(X_test_dl, y_test_dl)\n",
        "print(f\"LSTM Test Accuracy: {accuracy:.4f}\")\n"
      ]
    },
    {
      "cell_type": "markdown",
      "metadata": {
        "id": "UxhP5-JyMLgu"
      },
      "source": [
        "Error Analysis"
      ]
    },
    {
      "cell_type": "code",
      "execution_count": 31,
      "metadata": {
        "id": "ZUwdLJMKMNXJ",
        "colab": {
          "base_uri": "https://localhost:8080/"
        },
        "outputId": "72edb96f-0054-448b-b509-8ba240d57640"
      },
      "outputs": [
        {
          "output_type": "stream",
          "name": "stdout",
          "text": [
            "Number of misclassified samples: 1162\n",
            "                                                  review  actual  predicted\n",
            "40882  This movie is really wack. There is really not...       0          1\n",
            "41611  I admit creating great expectations before wat...       1          0\n",
            "40714  Little Quentin seems to have mastered the art ...       0          1\n",
            "31882  The film listed here as having been made in 19...       0          1\n",
            "1591   This is not a GREAT movie as tho the cast (esp...       1          0\n",
            "7266   Farrah Fawcett gives an award nominated perfor...       1          0\n",
            "11840  I had known Brad Linaweaver at Florida State U...       0          1\n",
            "20169  I am quite a fan of novelist/screenwriter Mich...       0          1\n",
            "47706  ... a recommendation! Gloria Grahame runs the ...       0          1\n",
            "46536  I just can't believe some of the comments on t...       1          0\n"
          ]
        }
      ],
      "source": [
        "import pandas as pd\n",
        "\n",
        "# Predict on test set using your best model (e.g., Logistic Regression or LSTM)\n",
        "y_pred = best_model.predict(X_test)  # replace best_model with your chosen model\n",
        "\n",
        "# Create a DataFrame with actual, predicted, and review text\n",
        "results_df = pd.DataFrame({\n",
        "    'review': df.loc[y_test.index, 'review'],  # original reviews corresponding to test set\n",
        "    'actual': y_test,\n",
        "    'predicted': y_pred\n",
        "})\n",
        "\n",
        "# Filter misclassified samples\n",
        "misclassified = results_df[results_df['actual'] != results_df['predicted']]\n",
        "\n",
        "print(f\"Number of misclassified samples: {len(misclassified)}\")\n",
        "print(misclassified.head(10))\n"
      ]
    },
    {
      "cell_type": "markdown",
      "source": [
        "Feature Engineering"
      ],
      "metadata": {
        "id": "m2ugN346I2PM"
      }
    },
    {
      "cell_type": "code",
      "source": [
        "from sklearn.feature_extraction.text import TfidfVectorizer\n",
        "\n",
        "tfidf = TfidfVectorizer(stop_words='english', max_features=5000, ngram_range=(1,3))  # unigrams + bigrams + trigrams\n",
        "X = tfidf.fit_transform(df['review'])\n",
        "\n",
        "# Then split and train your model again as before\n"
      ],
      "metadata": {
        "id": "KsiK8qSrI5Kq"
      },
      "execution_count": 35,
      "outputs": []
    },
    {
      "cell_type": "code",
      "source": [
        "df['review_length'] = df['review'].apply(lambda x: len(x.split()))\n",
        "\n",
        "from scipy.sparse import hstack\n",
        "import numpy as np\n",
        "\n",
        "length_feature = np.array(df['review_length']).reshape(-1, 1)\n",
        "\n",
        "# After splitting train/test for X and y:\n",
        "X_train_len = length_feature[y_train.index]\n",
        "X_test_len = length_feature[y_test.index]\n",
        "\n",
        "X_train_combined = hstack([X_train, X_train_len])\n",
        "X_test_combined = hstack([X_test, X_test_len])\n",
        "\n",
        "# Train model with combined features\n",
        "model = LogisticRegression(max_iter=1000)\n",
        "model.fit(X_train_combined, y_train)\n",
        "\n",
        "y_pred = model.predict(X_test_combined)\n",
        "print(\"Accuracy with review length:\", accuracy_score(y_test, y_pred))\n"
      ],
      "metadata": {
        "colab": {
          "base_uri": "https://localhost:8080/"
        },
        "id": "XkXD7z6hTQN1",
        "outputId": "d4ec26e2-cea8-4b88-8e52-75fd5a156ad0"
      },
      "execution_count": 36,
      "outputs": [
        {
          "output_type": "stream",
          "name": "stdout",
          "text": [
            "Accuracy with review length: 0.883\n"
          ]
        }
      ]
    },
    {
      "cell_type": "code",
      "source": [
        "!pip install vaderSentiment\n",
        "\n",
        "from vaderSentiment.vaderSentiment import SentimentIntensityAnalyzer\n",
        "\n",
        "analyzer = SentimentIntensityAnalyzer()\n",
        "\n",
        "df['vader_compound'] = df['review'].apply(lambda x: analyzer.polarity_scores(x)['compound'])\n",
        "\n",
        "# Add this feature as numeric alongside TF-IDF features (similar to review length)\n",
        "vader_feature = np.array(df['vader_compound']).reshape(-1, 1)\n",
        "\n",
        "X_train_vader = vader_feature[y_train.index]\n",
        "X_test_vader = vader_feature[y_test.index]\n",
        "\n",
        "X_train_combined = hstack([X_train, X_train_vader])\n",
        "X_test_combined = hstack([X_test, X_test_vader])\n",
        "\n",
        "model.fit(X_train_combined, y_train)\n",
        "y_pred = model.predict(X_test_combined)\n",
        "print(\"Accuracy with VADER feature:\", accuracy_score(y_test, y_pred))\n"
      ],
      "metadata": {
        "colab": {
          "base_uri": "https://localhost:8080/"
        },
        "id": "RktREh1nTSX-",
        "outputId": "f592b6ea-b51a-4b1b-e167-3260dd8b8609"
      },
      "execution_count": 37,
      "outputs": [
        {
          "output_type": "stream",
          "name": "stdout",
          "text": [
            "Collecting vaderSentiment\n",
            "  Downloading vaderSentiment-3.3.2-py2.py3-none-any.whl.metadata (572 bytes)\n",
            "Requirement already satisfied: requests in /usr/local/lib/python3.11/dist-packages (from vaderSentiment) (2.32.3)\n",
            "Requirement already satisfied: charset-normalizer<4,>=2 in /usr/local/lib/python3.11/dist-packages (from requests->vaderSentiment) (3.4.2)\n",
            "Requirement already satisfied: idna<4,>=2.5 in /usr/local/lib/python3.11/dist-packages (from requests->vaderSentiment) (3.10)\n",
            "Requirement already satisfied: urllib3<3,>=1.21.1 in /usr/local/lib/python3.11/dist-packages (from requests->vaderSentiment) (2.4.0)\n",
            "Requirement already satisfied: certifi>=2017.4.17 in /usr/local/lib/python3.11/dist-packages (from requests->vaderSentiment) (2025.4.26)\n",
            "Downloading vaderSentiment-3.3.2-py2.py3-none-any.whl (125 kB)\n",
            "\u001b[2K   \u001b[90m━━━━━━━━━━━━━━━━━━━━━━━━━━━━━━━━━━━━━━━━\u001b[0m \u001b[32m126.0/126.0 kB\u001b[0m \u001b[31m2.3 MB/s\u001b[0m eta \u001b[36m0:00:00\u001b[0m\n",
            "\u001b[?25hInstalling collected packages: vaderSentiment\n",
            "Successfully installed vaderSentiment-3.3.2\n",
            "Accuracy with VADER feature: 0.8837\n"
          ]
        }
      ]
    },
    {
      "cell_type": "markdown",
      "source": [
        "Cross-Validation for Robust Model Evaluation"
      ],
      "metadata": {
        "id": "Tbod8S4PVP44"
      }
    },
    {
      "cell_type": "code",
      "source": [
        "from sklearn.model_selection import cross_val_score\n",
        "\n",
        "# Use your best model (e.g., LogisticRegression, SVM, etc.)\n",
        "# X and y should be your full feature matrix and label vector\n",
        "scores = cross_val_score(best_model, X, y, cv=5, scoring='accuracy', n_jobs=-1)\n",
        "\n",
        "print(\"Cross-validation accuracy scores:\", scores)\n",
        "print(f\"Mean accuracy: {scores.mean():.4f}\")\n",
        "print(f\"Standard deviation: {scores.std():.4f}\")\n"
      ],
      "metadata": {
        "colab": {
          "base_uri": "https://localhost:8080/"
        },
        "id": "2KR5k-aIT5jS",
        "outputId": "0c550ca4-aef3-4ca7-eb02-946245020b70"
      },
      "execution_count": 38,
      "outputs": [
        {
          "output_type": "stream",
          "name": "stdout",
          "text": [
            "Cross-validation accuracy scores: [0.8921 0.8873 0.8876 0.8869 0.8845]\n",
            "Mean accuracy: 0.8877\n",
            "Standard deviation: 0.0025\n"
          ]
        }
      ]
    },
    {
      "cell_type": "code",
      "source": [
        "f1_scores = cross_val_score(best_model, X, y, cv=5, scoring='f1', n_jobs=-1)\n",
        "print(\"Cross-validation F1 scores:\", f1_scores)\n",
        "print(f\"Mean F1-score: {f1_scores.mean():.4f}\")\n"
      ],
      "metadata": {
        "colab": {
          "base_uri": "https://localhost:8080/"
        },
        "id": "yGonm723VVie",
        "outputId": "3d48abc4-a654-46e7-fe1b-e5c5acd37afc"
      },
      "execution_count": 39,
      "outputs": [
        {
          "output_type": "stream",
          "name": "stdout",
          "text": [
            "Cross-validation F1 scores: [0.89336493 0.88851518 0.88877894 0.88851651 0.88510892]\n",
            "Mean F1-score: 0.8889\n"
          ]
        }
      ]
    },
    {
      "cell_type": "markdown",
      "source": [
        "Model Deployment"
      ],
      "metadata": {
        "id": "w3eJA5m6Vgf5"
      }
    },
    {
      "cell_type": "code",
      "source": [
        "import joblib\n",
        "\n",
        "# Save the model\n",
        "joblib.dump(best_model, 'sentiment_model.joblib')\n",
        "\n",
        "# Save the TF-IDF vectorizer\n",
        "joblib.dump(tfidf, 'tfidf_vectorizer.joblib')\n"
      ],
      "metadata": {
        "colab": {
          "base_uri": "https://localhost:8080/"
        },
        "id": "HEq7YrWAVdTt",
        "outputId": "ece94cf6-5271-4981-d206-0bb229f8897a"
      },
      "execution_count": 40,
      "outputs": [
        {
          "output_type": "execute_result",
          "data": {
            "text/plain": [
              "['tfidf_vectorizer.joblib']"
            ]
          },
          "metadata": {},
          "execution_count": 40
        }
      ]
    },
    {
      "cell_type": "code",
      "source": [
        "import joblib\n",
        "\n",
        "# Load model and vectorizer\n",
        "loaded_model = joblib.load('sentiment_model.joblib')\n",
        "loaded_vectorizer = joblib.load('tfidf_vectorizer.joblib')\n",
        "\n",
        "# Example: Predict sentiment for a new review\n",
        "new_review = [\"This movie was absolutely fantastic and thrilling!\"]\n",
        "new_review_tfidf = loaded_vectorizer.transform(new_review)\n",
        "prediction = loaded_model.predict(new_review_tfidf)\n",
        "\n",
        "print(\"Predicted sentiment:\", \"positive\" if prediction[0] == 1 else \"negative\")\n"
      ],
      "metadata": {
        "colab": {
          "base_uri": "https://localhost:8080/"
        },
        "id": "S8PSTqOcVjXe",
        "outputId": "594c4a75-7be5-4dc7-b6de-42ba54730057"
      },
      "execution_count": 41,
      "outputs": [
        {
          "output_type": "stream",
          "name": "stdout",
          "text": [
            "Predicted sentiment: positive\n"
          ]
        }
      ]
    },
    {
      "cell_type": "code",
      "source": [],
      "metadata": {
        "id": "CgmhdgcDVljM"
      },
      "execution_count": null,
      "outputs": []
    }
  ],
  "metadata": {
    "colab": {
      "provenance": []
    },
    "kernelspec": {
      "display_name": "Python 3",
      "name": "python3"
    },
    "language_info": {
      "name": "python"
    }
  },
  "nbformat": 4,
  "nbformat_minor": 0
}